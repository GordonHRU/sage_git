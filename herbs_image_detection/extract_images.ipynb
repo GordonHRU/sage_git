{
 "cells": [
  {
   "cell_type": "code",
   "execution_count": 1,
   "id": "c64b1725",
   "metadata": {},
   "outputs": [],
   "source": [
    "import cv2\n",
    "import os"
   ]
  },
  {
   "cell_type": "code",
   "execution_count": null,
   "id": "c5ddfaff",
   "metadata": {},
   "outputs": [],
   "source": [
    "def extract_frames_from_videos(video_folder, output_folder, num_frames=60):\n",
    "    for filename in os.listdir(video_folder):\n",
    "        if filename.endswith(\".mp4\"):  # Assuming all videos are in .mp4 format\n",
    "            video_path = os.path.join(video_folder, filename)\n",
    "            video_name = os.path.splitext(filename)[0]\n",
    "            video_output_folder = os.path.join(output_folder, video_name)\n",
    "            os.makedirs(video_output_folder, exist_ok=True)\n",
    "            extract_frames(video_path, video_output_folder, num_frames)"
   ]
  },
  {
   "cell_type": "code",
   "execution_count": null,
   "id": "c8415e63",
   "metadata": {},
   "outputs": [],
   "source": [
    "def extract_frames(video_path, output_folder, num_frames=60):\n",
    "    cap = cv2.VideoCapture(video_path)\n",
    "    total_frames = int(cap.get(cv2.CAP_PROP_FRAME_COUNT))\n",
    "    step = total_frames // num_frames\n",
    "    count = 0\n",
    "    success = True\n",
    "\n",
    "    while success:\n",
    "        success, image = cap.read()\n",
    "        if count % step == 0:\n",
    "            frame_name = f\"frame_{count}.jpg\"\n",
    "            cv2.imwrite(os.path.join(output_folder, frame_name), image)\n",
    "            crop_image(image, output_folder, frame_name)\n",
    "        count += 1\n",
    "\n",
    "    cap.release()\n",
    "    cv2.destroyAllWindows()"
   ]
  },
  {
   "cell_type": "code",
   "execution_count": null,
   "id": "c52a1eaf",
   "metadata": {},
   "outputs": [],
   "source": [
    "def crop_image(image, output_folder, frame_name):\n",
    "    # 指定裁剪的範圍：[y1:y2, x1:x2]\n",
    "    # 假設我們想裁剪圖像的中間部分 3/5 高度\n",
    "    height, width = image.shape[:2]\n",
    "    y1 = height // 5  # 開始行索引，裁剪掉頂部的 1/5\n",
    "    y2 = 4 * height // 5  # 結束行索引，裁剪掉底部的 1/5\n",
    "\n",
    "    # 對圖像進行裁剪\n",
    "    cropped_image = image[y1:y2, :]\n",
    "\n",
    "    # 保存裁剪後的圖像\n",
    "    cropped_frame_name = f\"cropped_{frame_name}\"\n",
    "    cv2.imwrite(os.path.join(output_folder, cropped_frame_name), cropped_image, [int(cv2.IMWRITE_JPEG_QUALITY), 100])\n",
    "\n",
    "    # 删除原始圖像\n",
    "    os.remove(os.path.join(output_folder, frame_name))"
   ]
  },
  {
   "cell_type": "code",
   "execution_count": null,
   "id": "d7c6f538",
   "metadata": {},
   "outputs": [],
   "source": [
    "video_folder = 'C:/Users/Pheona/OneDrive - sagetech.com.hk/Desktop/extractpic/input_videos'\n",
    "output_folder = 'C:/Users/Pheona//OneDrive - sagetech.com.hk/Desktop/extractpic/frames_output'\n",
    "extract_frames_from_videos(video_folder, output_folder)"
   ]
  }
 ],
 "metadata": {
  "kernelspec": {
   "display_name": "Python 3 (ipykernel)",
   "language": "python",
   "name": "python3"
  },
  "language_info": {
   "codemirror_mode": {
    "name": "ipython",
    "version": 3
   },
   "file_extension": ".py",
   "mimetype": "text/x-python",
   "name": "python",
   "nbconvert_exporter": "python",
   "pygments_lexer": "ipython3",
   "version": "3.11.0"
  }
 },
 "nbformat": 4,
 "nbformat_minor": 5
}
